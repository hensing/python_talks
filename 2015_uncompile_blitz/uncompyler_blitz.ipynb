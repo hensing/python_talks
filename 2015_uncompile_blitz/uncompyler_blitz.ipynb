{
 "cells": [
  {
   "cell_type": "markdown",
   "metadata": {
    "slideshow": {
     "slide_type": "slide"
    }
   },
   "source": [
    "# Uncompiling von Python-Bytecode\n",
    "\n",
    "---\n",
    "### Python Usergroup Cologne, 14.10.2015\n",
    "### [Henning Dickten](https://github.com/hensing)\n",
    "<python+cologne@dickten.info>"
   ]
  },
  {
   "cell_type": "markdown",
   "metadata": {
    "slideshow": {
     "slide_type": "slide"
    }
   },
   "source": [
    "## Installation:\n",
    "\n",
    "### Github\n",
    "\n",
    "\n",
    "    https://github.com/gstarnberger/uncompyle.git\n",
    "\n",
    "### pip\n",
    "\n",
    "     \n",
    "    $ pip install uncompyle"
   ]
  },
  {
   "cell_type": "markdown",
   "metadata": {
    "slideshow": {
     "slide_type": "slide"
    }
   },
   "source": [
    "## Typisches Szenario:\n",
    "\n",
    "\n",
    "![programmieren](files/files/start.jpg)"
   ]
  },
  {
   "cell_type": "code",
   "execution_count": 1,
   "metadata": {
    "collapsed": false,
    "slideshow": {
     "slide_type": "subslide"
    }
   },
   "outputs": [
    {
     "name": "stdout",
     "output_type": "stream",
     "text": [
      "# coding: utf-8\r\n",
      "\"\"\"\r\n",
      "    module for EEG channel categorization and selection\r\n",
      "\"\"\"\r\n",
      "__author__ = 'Henning Dickten'\r\n",
      "\r\n",
      "import re\r\n",
      "import numpy as np\r\n",
      "\r\n",
      "from powertower.logger import logger\r\n",
      "\r\n",
      "LOGGER = logger.getChild(__name__)\r\n",
      "\r\n",
      "TTLEFT = ['(O|Fp)1', '[FCPT]3', 'T5', 'F7']\r\n",
      "TTRIGHT = ['(O|Fp)2', '[FCPT]4', 'T6', 'F8']\r\n",
      "TTREF = ['A[12]', 'Cb[12]']\r\n",
      "TTCENTER = ['[CPF]z']\r\n",
      "TENTWENTY = TTLEFT + TTRIGHT + TTCENTER + TTREF\r\n",
      "\r\n",
      "EYES = ['EOG(0|)[12]']\r\n",
      "EMG = ['EMG(0|)[12]']\r\n",
      "EKG = ['EKG(0|)[12]']\r\n",
      "ECG = ['ECG(0|)[12]']\r\n",
      "\r\n",
      "BIOSIG = ['E[OMKC]G[12]']\r\n"
     ]
    }
   ],
   "source": [
    "!head -n 25 eeg_channels.py"
   ]
  },
  {
   "cell_type": "markdown",
   "metadata": {
    "slideshow": {
     "slide_type": "subslide"
    }
   },
   "source": [
    "## ... und dann ...\n",
    "\n",
    "\n",
    "![delete](files/files/delete.jpg)"
   ]
  },
  {
   "cell_type": "markdown",
   "metadata": {
    "slideshow": {
     "slide_type": "subslide"
    }
   },
   "source": [
    "## Aber: zum Glück gibt es ja noch den Bytecode vom letzten Testlauf..."
   ]
  },
  {
   "cell_type": "code",
   "execution_count": 2,
   "metadata": {
    "collapsed": false
   },
   "outputs": [
    {
     "name": "stdout",
     "output_type": "stream",
     "text": [
      "-rw-r--r--  1 hensing  staff   4.0K Oct 14 15:44 eeg_channels.pyc\r\n"
     ]
    }
   ],
   "source": [
    "!ls -ahl *.pyc"
   ]
  },
  {
   "cell_type": "code",
   "execution_count": 3,
   "metadata": {
    "collapsed": false,
    "slideshow": {
     "slide_type": "fragment"
    }
   },
   "outputs": [
    {
     "name": "stdout",
     "output_type": "stream",
     "text": [
      "\u0003�\r",
      "\r\n",
      ".Z\u001e",
      "Vc\u0000\u0000\u0000\u0000\u0000\u0000\u0000\u0000\u0004\u0000\u0000\u0000@\u0000\u0000\u0000s�\u0001\u0000\u0000d\u0000\u0000Z\u0000\u0000d\u0001\u0000Z\u0001\u0000d\u0002\u0000d\u0003\u0000l\u0002\u0000Z\u0002\u0000d\u0002\u0000d\u0003\u0000l\u0003\u0000Z\u0004\u0000d\u0002\u0000d\u0004\u0000l\u0005\u0000m\u0006\u0000Z\u0006\u0000\u0001e\u0006\u0000j\u0007\u0000e\b\u0000�\u0001\u0000Z\t\u0000d\u0005\u0000d\u0006\u0000d\u0007\u0000d\b\u0000g\u0004\u0000Z\r\n",
      "\u0000d\t\u0000d\r\n",
      "\u0000d\u000b",
      "\u0000d\f",
      "\u0000g\u0004\u0000Z\u000b",
      "\u0000d\r",
      "\u0000d\u000e\u0000g\u0002\u0000Z\f",
      "\u0000d\u000f\u0000g\u0001\u0000Z\r",
      "\u0000e\r\n",
      "\u0000e\u000b",
      "\u0000\u0017e\r",
      "\u0000\u0017e\f",
      "\u0000\u0017Z\u000e\u0000d\u0010\u0000g\u0001\u0000Z\u000f\u0000d\u0011\u0000g\u0001\u0000Z\u0010\u0000d\u0012\u0000g\u0001\u0000Z\u0011\u0000d\u0013\u0000g\u0001\u0000Z\u0012\u0000d\u0014\u0000g\u0001\u0000Z\u0013\u0000e\u000e\u0000e\u0013\u0000\u0017Z\u0014\u0000d\u0015\u0000g\u0001\u0000Z\u0015\u0000d\u0016\u0000g\u0001\u0000Z\u0016\u0000e\u0015\u0000e\u0016\u0000\u0017Z\u0017\u0000d\u0017\u0000g\u0001\u0000Z\u0018\u0000d\u0018\u0000g\u0001\u0000Z\u0019\u0000e\u0018\u0000e\u0019\u0000\u0017Z\u001a\u0000d\u0019\u0000d\u001a\u0000g\u0002\u0000Z\u001b\u0000d\u001b\u0000d\u001c",
      "\u0000g\u0002\u0000Z\u001c",
      "\u0000e\u001b\u0000e\u001c",
      "\u0000\u0017Z\u001d",
      "\u0000d\u001d",
      "\u0000g\u0001\u0000Z\u001e",
      "\u0000d\u001e",
      "\u0000g\u0001\u0000Z\u001f\u0000e\r\n",
      "\u0000d\u001f\u0000d \u0000g\u0002\u0000\u0017Z \u0000e\u000b",
      "\u0000d!\u0000d\"\u0000g\u0002\u0000\u0017Z!\u0000e\r",
      "\u0000Z\"\u0000d#\u0000�\u0000\u0000Z#\u0000d$\u0000�\u0000\u0000Z$\u0000d%\u0000�\u0000\u0000Z%\u0000e\b\u0000d&\u0000k\u0002\u0000r�\u0001n\u0000\u0000d\u0003\u0000S('\u0000\u0000\u0000s9\u0000\u0000\u0000\r\n",
      "    module for EEG channel categorization and selection\r\n",
      "s\u000f\u0000\u0000\u0000Henning Dickteni����N(\u0001\u0000\u0000\u0000t\u0006\u0000\u0000\u0000loggers\u0007\u0000\u0000\u0000(O|Fp)1s\u0007\u0000\u0000\u0000[FCPT]3t\u0002\u0000\u0000\u0000T5t\u0002\u0000\u0000\u0000F7s\u0007\u0000\u0000\u0000(O|Fp)2s\u0007\u0000\u0000\u0000[FCPT]4t\u0002\u0000\u0000\u0000T6t\u0002\u0000\u0000\u0000F8s\u0005\u0000\u0000\u0000A[12]s\u0006\u0000\u0000\u0000Cb[12]s\u0006\u0000\u0000\u0000[CPF]zs\u000b",
      "\u0000\u0000\u0000EOG(0|)[12]s\u000b",
      "\u0000\u0000\u0000EMG(0|)[12]s\u000b",
      "\u0000\u0000\u0000EKG(0|)[12]s\u000b",
      "\u0000\u0000\u0000ECG(0|)[12]s\f",
      "\u0000\u0000\u0000E[OMKC]G[12]s\u0014\u0000\u0000\u0000TL([a-z]|)(0|)[1-10)s\u0014\u0000\u0000\u0000TR([a-z]|)(0|)[1-10)s\u0010\u0000\u0000\u0000GL[A-Z](0|)[1-8]s\u0010\u0000\u0000\u0000GR[A-Z](0|)[1-8]s!\u0000\u0000\u0000(IH|FP|TBA|TBP)([a-z]|)L(0|)[1-8]s\u0017\u0000\u0000\u0000(O|FP|FL|TL)L(0|)[1-16]s!\u0000\u0000\u0000(IH|FP|TBA|TBP)([a-z]|)R(0|)[1-8]s\u0017\u0000\u0000\u0000(O|FP|FL|TL)R(0|)[1-16]s\u001a\u0000\u0000\u0000(A|AH|EC|PH|PHC)L(0|)[1-8]s\u001a\u0000\u0000\u0000(A|AH|EC|PH|PHC)R(0|)[1-8]s\u000f\u0000\u0000\u0000\\w*([a-z]|)L\\d*s\u0007\u0000\u0000\u0000(A|Cb)1s\u000f\u0000\u0000\u0000\\w*([a-z]|)R\\d*s\u0007\u0000\u0000\u0000(A|Cb)2c\u0001\u0000\u0000\u0000\u0002\u0000\u0000\u0000\u0003\u0000\u0000\u0000C\u0000\u0000\u0000s@\u0000\u0000\u0000t\u0000\u0000|\u0000\u0000t\u0001\u0000�\u0002\u0000r\u001b\u0000|\u0000\u0000g\u0001\u0000}\u0000\u0000n\u0000\u0000d\u0001\u0000j\u0002\u0000d\u0002\u0000j\u0003\u0000|\u0000\u0000�\u0001\u0000�\u0001\u0000}\u0001\u0000t\u0004\u0000j\u0005\u0000|\u0001\u0000�\u0001\u0000S(\u0003\u0000\u0000\u0000s8\u0000\u0000\u0000\r\n",
      "    compiles a list of patterns into one re-object\r\n",
      "    s\u0006\u0000\u0000\u0000(?:{})t\u0001\u0000\u0000\u0000|(\u0006\u0000\u0000\u0000t\r\n"
     ]
    }
   ],
   "source": [
    "!head -n 10 *pyc"
   ]
  },
  {
   "cell_type": "markdown",
   "metadata": {
    "collapsed": false,
    "slideshow": {
     "slide_type": "slide"
    }
   },
   "source": [
    "# Frage: Was nun?"
   ]
  },
  {
   "cell_type": "code",
   "execution_count": 4,
   "metadata": {
    "collapsed": false,
    "slideshow": {
     "slide_type": "fragment"
    }
   },
   "outputs": [
    {
     "name": "stdout",
     "output_type": "stream",
     "text": [
      "# 2015.10.14 16:26:06 CEST\r\n",
      "\"\"\"\r\n",
      "    module for EEG channel categorization and selection\r\n",
      "\"\"\"\r\n",
      "__author__ = 'Henning Dickten'\r\n",
      "import re\r\n",
      "import numpy as np\r\n",
      "from powertower.logger import logger\r\n",
      "LOGGER = logger.getChild(__name__)\r\n",
      "TTLEFT = ['(O|Fp)1',\r\n",
      " '[FCPT]3',\r\n",
      " 'T5',\r\n",
      " 'F7']\r\n",
      "TTRIGHT = ['(O|Fp)2',\r\n",
      " '[FCPT]4',\r\n",
      " 'T6',\r\n",
      " 'F8']\r\n",
      "TTREF = ['A[12]', 'Cb[12]']\r\n",
      "TTCENTER = ['[CPF]z']\r\n",
      "TENTWENTY = TTLEFT + TTRIGHT + TTCENTER + TTREF\r\n",
      "EYES = ['EOG(0|)[12]']\r\n",
      "EMG = ['EMG(0|)[12]']\r\n",
      "EKG = ['EKG(0|)[12]']\r\n",
      "ECG = ['ECG(0|)[12]']\r\n",
      "BIOSIG = ['E[OMKC]G[12]']\r\n"
     ]
    }
   ],
   "source": [
    "!uncompyler.py eeg_channels.pyc | head -n 25"
   ]
  },
  {
   "cell_type": "markdown",
   "metadata": {
    "slideshow": {
     "slide_type": "subslide"
    }
   },
   "source": [
    "### Unterschiede zum Original\n",
    "- Spacing und Zeilenumbrüche\n",
    "- Strings können im sourcecode anders dargestellt werden - ergeben jedoch das selbe Ergebnis\n",
    "- Kommentare fehlen\n",
    "- Nicht alle Anweisungen können zurück übersetzt werden: so werden z.B. assertions nicht immer korrekt rückübersetzt, werden jedoch in Pseudocode kenntlich gemacht"
   ]
  },
  {
   "cell_type": "markdown",
   "metadata": {
    "slideshow": {
     "slide_type": "slide"
    }
   },
   "source": [
    "# Uncompiling von Python-Bytecode\n",
    "\n",
    "\n",
    "![success](files/files/success.jpg)\n",
    "\n",
    "\n",
    "    https://github.com/gstarnberger/uncompyle.git\n",
    "    \n",
    "---\n",
    "### Python Usergroup Cologne, 14.10.2015\n",
    "### [Henning Dickten](https://github.com/hensing)\n",
    "<python+cologne@dickten.info>"
   ]
  },
  {
   "cell_type": "code",
   "execution_count": null,
   "metadata": {
    "collapsed": true
   },
   "outputs": [],
   "source": []
  }
 ],
 "metadata": {
  "celltoolbar": "Slideshow",
  "kernelspec": {
   "display_name": "Python 2",
   "language": "python",
   "name": "python2"
  },
  "language_info": {
   "codemirror_mode": {
    "name": "ipython",
    "version": 2
   },
   "file_extension": ".py",
   "mimetype": "text/x-python",
   "name": "python",
   "nbconvert_exporter": "python",
   "pygments_lexer": "ipython2",
   "version": "2.7.9"
  }
 },
 "nbformat": 4,
 "nbformat_minor": 0
}
