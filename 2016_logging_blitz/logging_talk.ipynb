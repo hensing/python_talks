{
 "cells": [
  {
   "cell_type": "markdown",
   "metadata": {
    "slideshow": {
     "slide_type": "slide"
    }
   },
   "source": [
    "# Logging mit Python\n",
    "\n",
    "---\n",
    "### Python Usergroup Cologne, 13.01.2016\n",
    "### [Henning Dickten](https://github.com/hensing)\n",
    "<python+cologne@dickten.info>"
   ]
  },
  {
   "cell_type": "markdown",
   "metadata": {
    "slideshow": {
     "slide_type": "slide"
    }
   },
   "source": [
    "# Warum sollte man einen Logger verwenden?\n",
    "## Wie man es nicht machen sollte: I"
   ]
  },
  {
   "cell_type": "code",
   "execution_count": 1,
   "metadata": {
    "collapsed": false,
    "slideshow": {
     "slide_type": "-"
    }
   },
   "outputs": [],
   "source": [
    "def get_divmod(arg1, arg2):\n",
    "    \"\"\"\n",
    "    returns the tuple\n",
    "    ((arg1 - arg1 % arg2) / arg2, arg1 % arg2)\n",
    "    \"\"\"\n",
    "    print(\"Info: Berechne divmod von {} und {}\".format(arg1, arg2))\n",
    "    print(\"Debug: arg1: {} arg2: {}\".format(\n",
    "        type(arg1), type(arg2)))\n",
    "    try:\n",
    "        res = ((arg1 - arg1 % arg2) / arg2, arg1 % arg2)\n",
    "        return res\n",
    "    except ZeroDivisionError:\n",
    "        print(\"Warning: Durch Null teilen geht nicht!\")\n",
    "        print(arg1, arg2)\n",
    "        return \"nan\"\n",
    "    except Exception as err:\n",
    "        print(\"Error: {}\".format(\n",
    "            err.message))\n",
    "\n",
    "def main():\n",
    "    \"\"\"\n",
    "    calculates divmod from 4 pairs of floats\n",
    "    \"\"\"\n",
    "    get_divmod(9, 2)\n",
    "    get_divmod(3, -2)\n",
    "    get_divmod(1, 0)\n",
    "    get_divmod(9, \"a\")"
   ]
  },
  {
   "cell_type": "markdown",
   "metadata": {
    "slideshow": {
     "slide_type": "subslide"
    }
   },
   "source": [
    "# Warum sollte man einen Logger verwenden?\n",
    "## Wie man es nicht machen sollte: II"
   ]
  },
  {
   "cell_type": "code",
   "execution_count": 2,
   "metadata": {
    "collapsed": false
   },
   "outputs": [
    {
     "name": "stdout",
     "output_type": "stream",
     "text": [
      "Info: Berechne divmod von 9 und 2\n",
      "Debug: arg1: <type 'int'> arg2: <type 'int'>\n",
      "Info: Berechne divmod von 3 und -2\n",
      "Debug: arg1: <type 'int'> arg2: <type 'int'>\n",
      "Info: Berechne divmod von 1 und 0\n",
      "Debug: arg1: <type 'int'> arg2: <type 'int'>\n",
      "Warning: Durch Null teilen geht nicht!\n",
      "(1, 0)\n",
      "Info: Berechne divmod von 9 und a\n",
      "Debug: arg1: <type 'int'> arg2: <type 'str'>\n",
      "Error: unsupported operand type(s) for %: 'int' and 'str'\n"
     ]
    },
    {
     "name": "stderr",
     "output_type": "stream",
     "text": [
      "/home/hensing/.local/lib/python2.7/site-packages/ipykernel/__main__.py:18: DeprecationWarning: BaseException.message has been deprecated as of Python 2.6\n"
     ]
    }
   ],
   "source": [
    "main()"
   ]
  },
  {
   "cell_type": "markdown",
   "metadata": {
    "slideshow": {
     "slide_type": "slide"
    }
   },
   "source": [
    "## Wie man es besser machen kann"
   ]
  },
  {
   "cell_type": "code",
   "execution_count": 3,
   "metadata": {
    "collapsed": false
   },
   "outputs": [],
   "source": [
    "import logging\n",
    "\n",
    "\n",
    "def get_divmod(arg1, arg2):\n",
    "    \"\"\"\n",
    "    returns the tuple\n",
    "    ((arg1 - arg1 % arg2) / arg2, arg1 % arg2)\n",
    "    \"\"\"\n",
    "    logging.info(\"Berechne divmod von {} und {}\".format(\n",
    "        arg1, arg2))\n",
    "    logging.debug(\"arg1: {} arg2: {}\".format(\n",
    "        type(arg1), type(arg2)))\n",
    "    try:\n",
    "        res = ((arg1 - arg1 % arg2) / arg2, arg1 % arg2)\n",
    "        return res\n",
    "    except ZeroDivisionError:\n",
    "        logging.warning(\"Durch Null teilen geht nicht!\")\n",
    "        print(arg1, arg2)\n",
    "        return \"nan\"\n",
    "    except Exception as err:\n",
    "        logging.error(err.message)"
   ]
  },
  {
   "cell_type": "code",
   "execution_count": 4,
   "metadata": {
    "collapsed": false,
    "slideshow": {
     "slide_type": "fragment"
    }
   },
   "outputs": [
    {
     "name": "stderr",
     "output_type": "stream",
     "text": [
      "WARNING:root:Durch Null teilen geht nicht!\n",
      "/home/hensing/.local/lib/python2.7/site-packages/ipykernel/__main__.py:21: DeprecationWarning: BaseException.message has been deprecated as of Python 2.6\n",
      "ERROR:root:unsupported operand type(s) for %: 'int' and 'str'\n"
     ]
    },
    {
     "name": "stdout",
     "output_type": "stream",
     "text": [
      "(1, 0)\n"
     ]
    }
   ],
   "source": [
    "main()"
   ]
  },
  {
   "cell_type": "markdown",
   "metadata": {
    "slideshow": {
     "slide_type": "subslide"
    }
   },
   "source": [
    "## Auswahl bestimmter Loglevel:"
   ]
  },
  {
   "cell_type": "code",
   "execution_count": 5,
   "metadata": {
    "collapsed": false
   },
   "outputs": [
    {
     "name": "stdout",
     "output_type": "stream",
     "text": [
      "8a9,11\r\n",
      "> logging.basicConfig(level=logging.INFO)\r\n",
      "> \r\n",
      "> \r\n"
     ]
    }
   ],
   "source": [
    "!diff test_logging.py test_logging2.py"
   ]
  },
  {
   "cell_type": "code",
   "execution_count": 6,
   "metadata": {
    "collapsed": false,
    "slideshow": {
     "slide_type": "fragment"
    }
   },
   "outputs": [
    {
     "name": "stdout",
     "output_type": "stream",
     "text": [
      "INFO:root:Starte divmod\r\n",
      "INFO:root:Berechne divmod von 9 und 2\r\n",
      "INFO:root:Berechne divmod von 3 und -2\r\n",
      "INFO:root:Berechne divmod von 1 und 0\r\n",
      "WARNING:root:Durch Null teilen geht nicht!\r\n",
      "(1, 0)\r\n",
      "INFO:root:Berechne divmod von 9 und a\r\n",
      "ERROR:root:unsupported operand type(s) for %: 'int' and 'str'\r\n",
      "INFO:root:fertig :)\r\n"
     ]
    }
   ],
   "source": [
    "!python test_logging2.py"
   ]
  },
  {
   "cell_type": "code",
   "execution_count": 7,
   "metadata": {
    "collapsed": false,
    "slideshow": {
     "slide_type": "subslide"
    }
   },
   "outputs": [
    {
     "name": "stdout",
     "output_type": "stream",
     "text": [
      "8a9,11\r\n",
      "> logging.basicConfig(level=logging.DEBUG)\r\n",
      "> \r\n",
      "> \r\n"
     ]
    }
   ],
   "source": [
    "!diff test_logging.py test_logging3.py"
   ]
  },
  {
   "cell_type": "code",
   "execution_count": 8,
   "metadata": {
    "collapsed": false,
    "slideshow": {
     "slide_type": "fragment"
    }
   },
   "outputs": [
    {
     "name": "stdout",
     "output_type": "stream",
     "text": [
      "INFO:root:Starte divmod\r\n",
      "INFO:root:Berechne divmod von 9 und 2\r\n",
      "DEBUG:root:arg1: <type 'int'> arg2: <type 'int'>\r\n",
      "INFO:root:Berechne divmod von 3 und -2\r\n",
      "DEBUG:root:arg1: <type 'int'> arg2: <type 'int'>\r\n",
      "INFO:root:Berechne divmod von 1 und 0\r\n",
      "DEBUG:root:arg1: <type 'int'> arg2: <type 'int'>\r\n",
      "WARNING:root:Durch Null teilen geht nicht!\r\n",
      "(1, 0)\r\n",
      "INFO:root:Berechne divmod von 9 und a\r\n",
      "DEBUG:root:arg1: <type 'int'> arg2: <type 'str'>\r\n",
      "ERROR:root:unsupported operand type(s) for %: 'int' and 'str'\r\n",
      "INFO:root:fertig :)\r\n"
     ]
    }
   ],
   "source": [
    "!python test_logging3.py"
   ]
  },
  {
   "cell_type": "markdown",
   "metadata": {
    "slideshow": {
     "slide_type": "slide"
    }
   },
   "source": [
    "# Vorteile logging vs printfct:\n",
    "- Einfache Unterscheidung verschiedener Meldungen\n",
    "  - Debug\n",
    "  - Info\n",
    "  - Warning\n",
    "  - Error\n",
    "  - Critical\n",
    "- Art des Loggings **kann zentral geändert werden**:\n",
    "  - Ausgabe **pro Level** einzeln konfigurierbar\n",
    "  - Umleitung **pro Level** einzeln möglich\n",
    "  - alternative Handler möglich (z.B. [https://github.com/getsentry/sentry]('sentry'))\n",
    "\n",
    "# Nachteile:\n",
    "- zum Teil etwas langsamer\n"
   ]
  },
  {
   "cell_type": "markdown",
   "metadata": {
    "slideshow": {
     "slide_type": "slide"
    }
   },
   "source": [
    "# Performance"
   ]
  },
  {
   "cell_type": "code",
   "execution_count": 9,
   "metadata": {
    "collapsed": false
   },
   "outputs": [
    {
     "name": "stdout",
     "output_type": "stream",
     "text": [
      "The slowest run took 6.22 times longer than the fastest. This could mean that an intermediate result is being cached \n",
      "100 loops, best of 3: 1.45 ms per loop\n"
     ]
    }
   ],
   "source": [
    "def modfkt(arg1, arg2):\n",
    "    \"\"\"\n",
    "    modulo function without logging\n",
    "    \"\"\"\n",
    "    return arg1 % arg2 \n",
    "\n",
    "%timeit [i for i in range(10000) if modfkt(i, 2) == 0]"
   ]
  },
  {
   "cell_type": "code",
   "execution_count": 13,
   "metadata": {
    "collapsed": false,
    "slideshow": {
     "slide_type": "subslide"
    }
   },
   "outputs": [
    {
     "name": "stdout",
     "output_type": "stream",
     "text": [
      "100 loops, best of 3: 11.7 ms per loop\n"
     ]
    }
   ],
   "source": [
    "import logging\n",
    "logging.basicConfig(level=logging.WARNING)\n",
    "logger = logging.getLogger('perftest')\n",
    "\n",
    "\n",
    "def modfkt(arg1, arg2):\n",
    "    \"\"\"\n",
    "    modulo function WITH logging\n",
    "    \"\"\"\n",
    "    logger.debug(\"{} modulo {}\".format(arg1, arg2))\n",
    "    return arg1 % arg2   \n",
    "\n",
    "%timeit [i for i in range(10000) if modfkt(i, 2) == 0]"
   ]
  },
  {
   "cell_type": "code",
   "execution_count": 14,
   "metadata": {
    "collapsed": false,
    "slideshow": {
     "slide_type": "fragment"
    }
   },
   "outputs": [
    {
     "name": "stdout",
     "output_type": "stream",
     "text": [
      "100 loops, best of 3: 9.13 ms per loop\n"
     ]
    }
   ],
   "source": [
    "def modfkt(arg1, arg2):\n",
    "    \"\"\"\n",
    "    modulo function WITH logging\n",
    "    \"\"\"\n",
    "    logger.debug(\"%i modulo %i\",  arg1, arg2)\n",
    "    return arg1 % arg2   \n",
    "\n",
    "%timeit [i for i in range(10000) if modfkt(i, 2) == 0]"
   ]
  },
  {
   "cell_type": "markdown",
   "metadata": {
    "collapsed": false,
    "slideshow": {
     "slide_type": "slide"
    }
   },
   "source": [
    "# Logging mit Python\n",
    "\n",
    "  \n",
    "  \n",
    "## Vielen Dank für Euere Aufmerksamkeit!\n",
    "\n",
    "Nun zu Euch: Wie verwendet Ihr logging??\n",
    "  \n",
    "  \n",
    "  \n",
    "---\n",
    "### Python Usergroup Cologne, 13.01.2016\n",
    "### [Henning Dickten](https://github.com/hensing)\n",
    "<python+cologne@dickten.info>"
   ]
  },
  {
   "cell_type": "code",
   "execution_count": null,
   "metadata": {
    "collapsed": true
   },
   "outputs": [],
   "source": []
  }
 ],
 "metadata": {
  "celltoolbar": "Slideshow",
  "kernelspec": {
   "display_name": "Python 2",
   "language": "python",
   "name": "python2"
  },
  "language_info": {
   "codemirror_mode": {
    "name": "ipython",
    "version": 2
   },
   "file_extension": ".py",
   "mimetype": "text/x-python",
   "name": "python",
   "nbconvert_exporter": "python",
   "pygments_lexer": "ipython2",
   "version": "2.7.11"
  }
 },
 "nbformat": 4,
 "nbformat_minor": 0
}
