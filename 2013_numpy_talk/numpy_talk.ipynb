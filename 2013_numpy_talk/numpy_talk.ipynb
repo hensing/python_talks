{
 "metadata": {
  "celltoolbar": "Slideshow",
  "name": "",
  "signature": "sha256:f0a044b9e7ca79ba9d5218f7adfeb2950250ece7ceb88595bf24d03b39010a03"
 },
 "nbformat": 3,
 "nbformat_minor": 0,
 "worksheets": [
  {
   "cells": [
    {
     "cell_type": "markdown",
     "metadata": {
      "slideshow": {
       "slide_type": "slide"
      }
     },
     "source": [
      "#NumPy  \n",
      "## A short introduction\n",
      "\n",
      "---\n",
      "### Python User Group Bonn, 27.02.2013\n",
      "### [Henning Dickten](https://github.com/hensing)\n",
      "<python+bonn@dickten.info>\n",
      "\n",
      "Department of Epileptology  \n",
      "Helmholtz Institute for Radiation and Nuclear Physics  \n",
      "Interdisciplinary Center for Complex Systems  \n",
      "University of Bonn, Germany  "
     ]
    },
    {
     "cell_type": "markdown",
     "metadata": {
      "slideshow": {
       "slide_type": "slide"
      }
     },
     "source": [
      "# Why NumPy?\n",
      "\n",
      "#### from the [project homepage](http://www.numpy.org):\n",
      "\n",
      "NumPy is *the* fundamental package for scientific computing with Python.\n",
      "It contains:\n",
      "    \n",
      "* a powerful N-dimensional array object\n",
      "* sophisticated (broadcasting) functions\n",
      "* tools for integrating C/C++ and Fortran code\n",
      "* useful linear algebra, Fourier transform, and random number capabilities\n",
      "\n",
      "Besides its obvious scientific uses, NumPy can also be used as an efficient multi-dimensional container of generic data."
     ]
    },
    {
     "cell_type": "markdown",
     "metadata": {
      "slideshow": {
       "slide_type": "slide"
      }
     },
     "source": [
      "#Getting started\n",
      "## Array creation from given data"
     ]
    },
    {
     "cell_type": "code",
     "collapsed": false,
     "input": [
      "import numpy as num\n",
      "data = num.array([range(0, 3), range(3, 6), range(6, 9)])\n",
      "\n",
      "data"
     ],
     "language": "python",
     "metadata": {
      "slideshow": {
       "slide_type": "-"
      }
     },
     "outputs": [
      {
       "metadata": {},
       "output_type": "pyout",
       "prompt_number": 1,
       "text": [
        "array([[0, 1, 2],\n",
        "       [3, 4, 5],\n",
        "       [6, 7, 8]])"
       ]
      }
     ],
     "prompt_number": 1
    },
    {
     "cell_type": "markdown",
     "metadata": {
      "slideshow": {
       "slide_type": "subslide"
      }
     },
     "source": [
      "## Creating (empty) arrays"
     ]
    },
    {
     "cell_type": "code",
     "collapsed": false,
     "input": [
      "num.empty(shape=(2, 3))"
     ],
     "language": "python",
     "metadata": {},
     "outputs": [
      {
       "metadata": {},
       "output_type": "pyout",
       "prompt_number": 2,
       "text": [
        "array([[  6.90252963e-310,   3.43061714e-316,   2.47798427e-316],\n",
        "       [  2.47798743e-316,   2.47799059e-316,   2.47799376e-316]])"
       ]
      }
     ],
     "prompt_number": 2
    },
    {
     "cell_type": "code",
     "collapsed": false,
     "input": [
      "num.zeros(shape=(2, 3))"
     ],
     "language": "python",
     "metadata": {},
     "outputs": [
      {
       "metadata": {},
       "output_type": "pyout",
       "prompt_number": 3,
       "text": [
        "array([[ 0.,  0.,  0.],\n",
        "       [ 0.,  0.,  0.]])"
       ]
      }
     ],
     "prompt_number": 3
    },
    {
     "cell_type": "code",
     "collapsed": false,
     "input": [
      "num.ones(shape=(2, 3)) * num.nan"
     ],
     "language": "python",
     "metadata": {},
     "outputs": [
      {
       "metadata": {},
       "output_type": "pyout",
       "prompt_number": 4,
       "text": [
        "array([[ nan,  nan,  nan],\n",
        "       [ nan,  nan,  nan]])"
       ]
      }
     ],
     "prompt_number": 4
    },
    {
     "cell_type": "markdown",
     "metadata": {
      "slideshow": {
       "slide_type": "subslide"
      }
     },
     "source": [
      "## Creating filled arrays"
     ]
    },
    {
     "cell_type": "code",
     "collapsed": false,
     "input": [
      "# create 3x3-array with range from 0 to 9\n",
      "data = num.array([range(0, 3), range(3, 6), range(6, 9)])\n",
      "\n",
      "# same in numpy\n",
      "num.arange(0, 9).reshape(3, -1)    # '-1' in reshape determines automatically the last dimension"
     ],
     "language": "python",
     "metadata": {},
     "outputs": [
      {
       "metadata": {},
       "output_type": "pyout",
       "prompt_number": 5,
       "text": [
        "array([[0, 1, 2],\n",
        "       [3, 4, 5],\n",
        "       [6, 7, 8]])"
       ]
      }
     ],
     "prompt_number": 5
    },
    {
     "cell_type": "code",
     "collapsed": false,
     "input": [
      "num.arange(0, 2 * num.pi, step=num.pi / 5.)"
     ],
     "language": "python",
     "metadata": {
      "slideshow": {
       "slide_type": "fragment"
      }
     },
     "outputs": [
      {
       "metadata": {},
       "output_type": "pyout",
       "prompt_number": 6,
       "text": [
        "array([ 0.        ,  0.62831853,  1.25663706,  1.88495559,  2.51327412,\n",
        "        3.14159265,  3.76991118,  4.39822972,  5.02654825,  5.65486678])"
       ]
      }
     ],
     "prompt_number": 6
    },
    {
     "cell_type": "code",
     "collapsed": false,
     "input": [
      "num.linspace(0, 2 * num.pi, num=10, endpoint=False)"
     ],
     "language": "python",
     "metadata": {
      "slideshow": {
       "slide_type": "fragment"
      }
     },
     "outputs": [
      {
       "metadata": {},
       "output_type": "pyout",
       "prompt_number": 7,
       "text": [
        "array([ 0.        ,  0.62831853,  1.25663706,  1.88495559,  2.51327412,\n",
        "        3.14159265,  3.76991118,  4.39822972,  5.02654825,  5.65486678])"
       ]
      }
     ],
     "prompt_number": 7
    },
    {
     "cell_type": "code",
     "collapsed": false,
     "input": [
      "num.identity(3) * num.arange(3, 0, step=-1)\n"
     ],
     "language": "python",
     "metadata": {
      "slideshow": {
       "slide_type": "fragment"
      }
     },
     "outputs": [
      {
       "metadata": {},
       "output_type": "pyout",
       "prompt_number": 8,
       "text": [
        "array([[ 3.,  0.,  0.],\n",
        "       [ 0.,  2.,  0.],\n",
        "       [ 0.,  0.,  1.]])"
       ]
      }
     ],
     "prompt_number": 8
    },
    {
     "cell_type": "markdown",
     "metadata": {
      "slideshow": {
       "slide_type": "slide"
      }
     },
     "source": [
      "#Some important attributes of ndarrays"
     ]
    },
    {
     "cell_type": "code",
     "collapsed": false,
     "input": [
      "data = num.arange(1, 17).reshape(1, 2, 8)\n",
      "data"
     ],
     "language": "python",
     "metadata": {},
     "outputs": [
      {
       "metadata": {},
       "output_type": "pyout",
       "prompt_number": 9,
       "text": [
        "array([[[ 1,  2,  3,  4,  5,  6,  7,  8],\n",
        "        [ 9, 10, 11, 12, 13, 14, 15, 16]]])"
       ]
      }
     ],
     "prompt_number": 9
    },
    {
     "cell_type": "code",
     "collapsed": false,
     "input": [
      "# dimension of the array\n",
      "data.ndim"
     ],
     "language": "python",
     "metadata": {},
     "outputs": [
      {
       "metadata": {},
       "output_type": "pyout",
       "prompt_number": 10,
       "text": [
        "3"
       ]
      }
     ],
     "prompt_number": 10
    },
    {
     "cell_type": "code",
     "collapsed": false,
     "input": [
      "# shape = number of elements for each dimension\n",
      "data.shape"
     ],
     "language": "python",
     "metadata": {},
     "outputs": [
      {
       "metadata": {},
       "output_type": "pyout",
       "prompt_number": 11,
       "text": [
        "(1, 2, 8)"
       ]
      }
     ],
     "prompt_number": 11
    },
    {
     "cell_type": "code",
     "collapsed": false,
     "input": [
      "# total number of elements\n",
      "data.size"
     ],
     "language": "python",
     "metadata": {},
     "outputs": [
      {
       "metadata": {},
       "output_type": "pyout",
       "prompt_number": 12,
       "text": [
        "16"
       ]
      }
     ],
     "prompt_number": 12
    },
    {
     "cell_type": "code",
     "collapsed": false,
     "input": [
      "# type of elements\n",
      "data.dtype"
     ],
     "language": "python",
     "metadata": {},
     "outputs": [
      {
       "metadata": {},
       "output_type": "pyout",
       "prompt_number": 13,
       "text": [
        "dtype('int64')"
       ]
      }
     ],
     "prompt_number": 13
    },
    {
     "cell_type": "markdown",
     "metadata": {
      "slideshow": {
       "slide_type": "slide"
      }
     },
     "source": [
      "#Accessing array elements\n",
      "![axis](files/files/axis.png)\n"
     ]
    },
    {
     "cell_type": "code",
     "collapsed": false,
     "input": [
      "data = num.arange(1, 28).reshape(3, 3, 3)\n",
      "\n",
      "green = data[2, 2, 1]\n",
      "print(green)\n",
      "\n",
      "# alternatively:\n",
      "green = data[-1, -1, -2]    # select last entry, last entry, second to last entry"
     ],
     "language": "python",
     "metadata": {
      "slideshow": {
       "slide_type": "-"
      }
     },
     "outputs": [
      {
       "output_type": "stream",
       "stream": "stdout",
       "text": [
        "26\n"
       ]
      }
     ],
     "prompt_number": 14
    },
    {
     "cell_type": "markdown",
     "metadata": {
      "slideshow": {
       "slide_type": "subslide"
      }
     },
     "source": [
      "##Indexing with slices\n",
      "\n",
      "![files/slice_1](files/files/slice_1.png)![files/slice_2](files/files/slice_2.png)![files/slice_3](files/files/slice_3.png)\n"
     ]
    },
    {
     "cell_type": "code",
     "collapsed": false,
     "input": [
      "data = num.arange(1, 10).reshape(3, 3)\n",
      "\n",
      "# select second row\n",
      "data[1, :]"
     ],
     "language": "python",
     "metadata": {
      "slideshow": {
       "slide_type": "-"
      }
     },
     "outputs": [
      {
       "metadata": {},
       "output_type": "pyout",
       "prompt_number": 15,
       "text": [
        "array([4, 5, 6])"
       ]
      }
     ],
     "prompt_number": 15
    },
    {
     "cell_type": "code",
     "collapsed": false,
     "input": [
      "# select every second row\n",
      "data[::2, :]"
     ],
     "language": "python",
     "metadata": {
      "slideshow": {
       "slide_type": "fragment"
      }
     },
     "outputs": [
      {
       "metadata": {},
       "output_type": "pyout",
       "prompt_number": 16,
       "text": [
        "array([[1, 2, 3],\n",
        "       [7, 8, 9]])"
       ]
      }
     ],
     "prompt_number": 16
    },
    {
     "cell_type": "code",
     "collapsed": false,
     "input": [
      "# select all up to second row and second column\n",
      "data[:2, :2]"
     ],
     "language": "python",
     "metadata": {
      "slideshow": {
       "slide_type": "fragment"
      }
     },
     "outputs": [
      {
       "metadata": {},
       "output_type": "pyout",
       "prompt_number": 17,
       "text": [
        "array([[1, 2],\n",
        "       [4, 5]])"
       ]
      }
     ],
     "prompt_number": 17
    },
    {
     "cell_type": "markdown",
     "metadata": {
      "slideshow": {
       "slide_type": "subslide"
      }
     },
     "source": [
      "## Advanced slicing\n",
      "![slice_6](files/files/slice_6.png \"slice_6\")"
     ]
    },
    {
     "cell_type": "code",
     "collapsed": false,
     "input": [
      "data = num.array([[1, 2, 5], [5, 4, 7], [3, 9, 2]])"
     ],
     "language": "python",
     "metadata": {
      "slideshow": {
       "slide_type": "skip"
      }
     },
     "outputs": [],
     "prompt_number": 18
    },
    {
     "cell_type": "code",
     "collapsed": false,
     "input": [
      "# select only entries larger than 4\n",
      "data[data > 4]"
     ],
     "language": "python",
     "metadata": {
      "slideshow": {
       "slide_type": "-"
      }
     },
     "outputs": [
      {
       "metadata": {},
       "output_type": "pyout",
       "prompt_number": 19,
       "text": [
        "array([5, 5, 7, 9])"
       ]
      }
     ],
     "prompt_number": 19
    },
    {
     "cell_type": "code",
     "collapsed": false,
     "input": [
      "data > 4"
     ],
     "language": "python",
     "metadata": {
      "slideshow": {
       "slide_type": "fragment"
      }
     },
     "outputs": [
      {
       "metadata": {},
       "output_type": "pyout",
       "prompt_number": 20,
       "text": [
        "array([[False, False,  True],\n",
        "       [ True, False,  True],\n",
        "       [False,  True, False]], dtype=bool)"
       ]
      }
     ],
     "prompt_number": 20
    },
    {
     "cell_type": "code",
     "collapsed": false,
     "input": [
      "# get indices of entries larger than 4\n",
      "num.where(data > 4)"
     ],
     "language": "python",
     "metadata": {
      "slideshow": {
       "slide_type": "fragment"
      }
     },
     "outputs": [
      {
       "metadata": {},
       "output_type": "pyout",
       "prompt_number": 21,
       "text": [
        "(array([0, 1, 1, 2]), array([2, 0, 2, 1]))"
       ]
      }
     ],
     "prompt_number": 21
    },
    {
     "cell_type": "code",
     "collapsed": false,
     "input": [
      "# get entries of diagonal\n",
      "data.diagonal()"
     ],
     "language": "python",
     "metadata": {
      "slideshow": {
       "slide_type": "fragment"
      }
     },
     "outputs": [
      {
       "metadata": {},
       "output_type": "pyout",
       "prompt_number": 22,
       "text": [
        "array([1, 4, 2])"
       ]
      }
     ],
     "prompt_number": 22
    },
    {
     "cell_type": "markdown",
     "metadata": {
      "slideshow": {
       "slide_type": "slide"
      }
     },
     "source": [
      "#Fast element-wise array functions\n",
      "\n",
      "### Many fast built-in functions:\n",
      "\n",
      "* num.sqrt(data)\n",
      "* num.log2(data)\n",
      "* num.min(data) == data.min()\n",
      "* num.sort(data) == data.sort()\n",
      "* num.invert(data)\n",
      "* num.transpose(data) == data.T\n",
      "* ..."
     ]
    },
    {
     "cell_type": "code",
     "collapsed": false,
     "input": [
      "# plain python\n",
      "%timeit mean(range(10000))"
     ],
     "language": "python",
     "metadata": {},
     "outputs": [
      {
       "output_type": "stream",
       "stream": "stdout",
       "text": [
        "100 loops, best of 3: 1.95 ms per loop\n"
       ]
      }
     ],
     "prompt_number": 23
    },
    {
     "cell_type": "code",
     "collapsed": false,
     "input": [
      "# pure numpy\n",
      "%timeit num.arange(10000).mean()"
     ],
     "language": "python",
     "metadata": {
      "slideshow": {
       "slide_type": "fragment"
      }
     },
     "outputs": [
      {
       "output_type": "stream",
       "stream": "stdout",
       "text": [
        "10000 loops, best of 3: 73.2 \u00b5s per loop\n"
       ]
      }
     ],
     "prompt_number": 24
    },
    {
     "cell_type": "markdown",
     "metadata": {
      "slideshow": {
       "slide_type": "subslide"
      }
     },
     "source": [
      "#Fast element-wise array functions"
     ]
    },
    {
     "cell_type": "code",
     "collapsed": false,
     "input": [
      "data = num.array(num.random.rand(3, 5) * 1000, dtype=num.int)\n",
      "data"
     ],
     "language": "python",
     "metadata": {},
     "outputs": [
      {
       "metadata": {},
       "output_type": "pyout",
       "prompt_number": 25,
       "text": [
        "array([[682, 146, 265, 139, 309],\n",
        "       [928, 418, 478,  57, 239],\n",
        "       [956, 234, 731, 310, 772]])"
       ]
      }
     ],
     "prompt_number": 25
    },
    {
     "cell_type": "code",
     "collapsed": false,
     "input": [
      "# get total mean \n",
      "data.mean()"
     ],
     "language": "python",
     "metadata": {},
     "outputs": [
      {
       "metadata": {},
       "output_type": "pyout",
       "prompt_number": 26,
       "text": [
        "444.26666666666665"
       ]
      }
     ],
     "prompt_number": 26
    },
    {
     "cell_type": "code",
     "collapsed": false,
     "input": [
      "# get mean along second axis (for each row)\n",
      "data.mean(axis=1)"
     ],
     "language": "python",
     "metadata": {
      "slideshow": {
       "slide_type": "fragment"
      }
     },
     "outputs": [
      {
       "metadata": {},
       "output_type": "pyout",
       "prompt_number": 27,
       "text": [
        "array([ 308.2,  424. ,  600.6])"
       ]
      }
     ],
     "prompt_number": 27
    },
    {
     "cell_type": "markdown",
     "metadata": {
      "slideshow": {
       "slide_type": "slide"
      }
     },
     "source": [
      "# File input and output\n",
      "\n",
      "### Load / Save CSV"
     ]
    },
    {
     "cell_type": "code",
     "collapsed": false,
     "input": [
      "# show file via shell-command\n",
      "!cat 'testfile.csv'"
     ],
     "language": "python",
     "metadata": {
      "slideshow": {
       "slide_type": "-"
      }
     },
     "outputs": [
      {
       "output_type": "stream",
       "stream": "stdout",
       "text": [
        "# foo, bar\r\n",
        "1, 1.0\r\n",
        "2, 1.1\r\n",
        "3, 1.3\r\n"
       ]
      }
     ],
     "prompt_number": 28
    },
    {
     "cell_type": "code",
     "collapsed": false,
     "input": [
      "# load data from csv-file\n",
      "csv_data = num.loadtxt('testfile.csv', delimiter=',', skiprows=1)\n",
      "csv_data"
     ],
     "language": "python",
     "metadata": {
      "slideshow": {
       "slide_type": "-"
      }
     },
     "outputs": [
      {
       "metadata": {},
       "output_type": "pyout",
       "prompt_number": 29,
       "text": [
        "array([[ 1. ,  1. ],\n",
        "       [ 2. ,  1.1],\n",
        "       [ 3. ,  1.3]])"
       ]
      }
     ],
     "prompt_number": 29
    },
    {
     "cell_type": "code",
     "collapsed": false,
     "input": [
      "# save data as csv-file\n",
      "num.savetxt('testout.csv', num.random.rand(3, 2), delimiter=',', header='foo, bar', fmt='%2.1f')\n",
      "!cat 'testout.csv'"
     ],
     "language": "python",
     "metadata": {
      "slideshow": {
       "slide_type": "fragment"
      }
     },
     "outputs": [
      {
       "output_type": "stream",
       "stream": "stdout",
       "text": [
        "# foo, bar\r\n",
        "0.0,1.0\r\n",
        "0.5,0.4\r\n",
        "0.2,0.8\r\n"
       ]
      }
     ],
     "prompt_number": 30
    },
    {
     "cell_type": "markdown",
     "metadata": {
      "slideshow": {
       "slide_type": "subslide"
      }
     },
     "source": [
      "# File input and output\n",
      "\n",
      "### Load / Save binary data"
     ]
    },
    {
     "cell_type": "code",
     "collapsed": false,
     "input": [
      "# save as numpy-format\n",
      "num.save('testout.npy', num.random.rand(2, 2))"
     ],
     "language": "python",
     "metadata": {},
     "outputs": [],
     "prompt_number": 31
    },
    {
     "cell_type": "code",
     "collapsed": false,
     "input": [
      "# load numpy-file\n",
      "num.load('testout.npy')"
     ],
     "language": "python",
     "metadata": {},
     "outputs": [
      {
       "metadata": {},
       "output_type": "pyout",
       "prompt_number": 32,
       "text": [
        "array([[ 0.29645631,  0.70089373],\n",
        "       [ 0.34725565,  0.8224028 ]])"
       ]
      }
     ],
     "prompt_number": 32
    },
    {
     "cell_type": "markdown",
     "metadata": {
      "slideshow": {
       "slide_type": "fragment"
      }
     },
     "source": [
      "### Load data from arbitrary binary file "
     ]
    },
    {
     "cell_type": "code",
     "collapsed": false,
     "input": [
      "infile = file('testout.npy')\n",
      "\n",
      "# define format of data\n",
      "numdtype = num.dtype('2f')\n",
      "\n",
      "# skip header\n",
      "infile.seek(80)\n",
      "\n",
      "# get data\n",
      "num.fromfile(infile)"
     ],
     "language": "python",
     "metadata": {
      "slideshow": {
       "slide_type": "fragment"
      }
     },
     "outputs": [
      {
       "metadata": {},
       "output_type": "pyout",
       "prompt_number": 33,
       "text": [
        "array([ 0.29645631,  0.70089373,  0.34725565,  0.8224028 ])"
       ]
      }
     ],
     "prompt_number": 33
    },
    {
     "cell_type": "markdown",
     "metadata": {
      "slideshow": {
       "slide_type": "slide"
      }
     },
     "source": [
      "# Dealing with invalid values\n",
      "### Define / find invalid values"
     ]
    },
    {
     "cell_type": "code",
     "collapsed": false,
     "input": [
      "data = num.random.rand(10) * 100\n",
      "print(data)"
     ],
     "language": "python",
     "metadata": {},
     "outputs": [
      {
       "output_type": "stream",
       "stream": "stdout",
       "text": [
        "[ 82.37613499  22.97345048  78.42640166  98.04808376  19.76438712\n",
        "   7.80701025  53.57048115  67.86074479  82.54703112  33.70548379]\n"
       ]
      }
     ],
     "prompt_number": 34
    },
    {
     "cell_type": "code",
     "collapsed": false,
     "input": [
      "# discard values smaller than 30\n",
      "data[data <= 30] = num.nan\n",
      "print(data)"
     ],
     "language": "python",
     "metadata": {},
     "outputs": [
      {
       "output_type": "stream",
       "stream": "stdout",
       "text": [
        "[ 82.37613499          nan  78.42640166  98.04808376          nan\n",
        "          nan  53.57048115  67.86074479  82.54703112  33.70548379]\n"
       ]
      }
     ],
     "prompt_number": 35
    },
    {
     "cell_type": "code",
     "collapsed": false,
     "input": [
      "# test for invalid data\n",
      "num.any(num.isnan(data))"
     ],
     "language": "python",
     "metadata": {
      "slideshow": {
       "slide_type": "fragment"
      }
     },
     "outputs": [
      {
       "metadata": {},
       "output_type": "pyout",
       "prompt_number": 36,
       "text": [
        "True"
       ]
      }
     ],
     "prompt_number": 36
    },
    {
     "cell_type": "code",
     "collapsed": false,
     "input": [
      "# test if all values are nan\n",
      "num.all(num.isnan(data))"
     ],
     "language": "python",
     "metadata": {
      "slideshow": {
       "slide_type": "fragment"
      }
     },
     "outputs": [
      {
       "metadata": {},
       "output_type": "pyout",
       "prompt_number": 37,
       "text": [
        "False"
       ]
      }
     ],
     "prompt_number": 37
    },
    {
     "cell_type": "markdown",
     "metadata": {
      "slideshow": {
       "slide_type": "subslide"
      }
     },
     "source": [
      "# Dealing with invalid values\n",
      "### Ignore invalid data"
     ]
    },
    {
     "cell_type": "code",
     "collapsed": false,
     "input": [
      "print(data)"
     ],
     "language": "python",
     "metadata": {},
     "outputs": [
      {
       "output_type": "stream",
       "stream": "stdout",
       "text": [
        "[ 82.37613499          nan  78.42640166  98.04808376          nan\n",
        "          nan  53.57048115  67.86074479  82.54703112  33.70548379]\n"
       ]
      }
     ],
     "prompt_number": 38
    },
    {
     "cell_type": "code",
     "collapsed": false,
     "input": [
      "# doesn't work\n",
      "num.mean(data)"
     ],
     "language": "python",
     "metadata": {},
     "outputs": [
      {
       "metadata": {},
       "output_type": "pyout",
       "prompt_number": 39,
       "text": [
        "nan"
       ]
      }
     ],
     "prompt_number": 39
    },
    {
     "cell_type": "code",
     "collapsed": false,
     "input": [
      "# create MaskedArray\n",
      "masked_data = num.ma.masked_invalid(data)\n",
      "print(masked_data.data)\n",
      "print(masked_data.mask)"
     ],
     "language": "python",
     "metadata": {
      "slideshow": {
       "slide_type": "fragment"
      }
     },
     "outputs": [
      {
       "output_type": "stream",
       "stream": "stdout",
       "text": [
        "[ 82.37613499          nan  78.42640166  98.04808376          nan\n",
        "          nan  53.57048115  67.86074479  82.54703112  33.70548379]\n",
        "[False  True False False  True  True False False False False]\n"
       ]
      }
     ],
     "prompt_number": 40
    },
    {
     "cell_type": "code",
     "collapsed": false,
     "input": [
      "# works\n",
      "masked_data.mean()"
     ],
     "language": "python",
     "metadata": {
      "slideshow": {
       "slide_type": "fragment"
      }
     },
     "outputs": [
      {
       "metadata": {},
       "output_type": "pyout",
       "prompt_number": 41,
       "text": [
        "70.933480180580347"
       ]
      }
     ],
     "prompt_number": 41
    },
    {
     "cell_type": "code",
     "collapsed": false,
     "input": [
      "# much faster\n",
      "data[data == data].mean()\n"
     ],
     "language": "python",
     "metadata": {
      "slideshow": {
       "slide_type": "fragment"
      }
     },
     "outputs": [
      {
       "metadata": {},
       "output_type": "pyout",
       "prompt_number": 42,
       "text": [
        "70.933480180580347"
       ]
      }
     ],
     "prompt_number": 42
    },
    {
     "cell_type": "markdown",
     "metadata": {
      "slideshow": {
       "slide_type": "subslide"
      }
     },
     "source": [
      "# Dealing with invalid values\n",
      "### Using MaskedArrays"
     ]
    },
    {
     "cell_type": "code",
     "collapsed": false,
     "input": [
      "data = num.array(num.random.rand(10) * 100, dtype=int)\n",
      "data"
     ],
     "language": "python",
     "metadata": {
      "slideshow": {
       "slide_type": "-"
      }
     },
     "outputs": [
      {
       "metadata": {},
       "output_type": "pyout",
       "prompt_number": 43,
       "text": [
        "array([43, 42, 58, 45, 81, 96, 31, 11, 85, 14])"
       ]
      }
     ],
     "prompt_number": 43
    },
    {
     "cell_type": "code",
     "collapsed": false,
     "input": [
      "# discard values outside [20, 80]\n",
      "masked_array = num.ma.masked_outside(data, 20, 80)\n",
      "masked_array"
     ],
     "language": "python",
     "metadata": {},
     "outputs": [
      {
       "metadata": {},
       "output_type": "pyout",
       "prompt_number": 44,
       "text": [
        "masked_array(data = [43 42 58 45 -- -- 31 -- -- --],\n",
        "             mask = [False False False False  True  True False  True  True  True],\n",
        "       fill_value = 999999)"
       ]
      }
     ],
     "prompt_number": 44
    },
    {
     "cell_type": "code",
     "collapsed": false,
     "input": [
      "# fill invalid values for csv-export\n",
      "masked_array.filled(-9999)"
     ],
     "language": "python",
     "metadata": {
      "slideshow": {
       "slide_type": "fragment"
      }
     },
     "outputs": [
      {
       "metadata": {},
       "output_type": "pyout",
       "prompt_number": 45,
       "text": [
        "array([   43,    42,    58,    45, -9999, -9999,    31, -9999, -9999, -9999])"
       ]
      }
     ],
     "prompt_number": 45
    },
    {
     "cell_type": "code",
     "collapsed": false,
     "input": [
      "# fill invalid values with mean\n",
      "masked_array.filled(masked_array.mean())"
     ],
     "language": "python",
     "metadata": {
      "slideshow": {
       "slide_type": "fragment"
      }
     },
     "outputs": [
      {
       "metadata": {},
       "output_type": "pyout",
       "prompt_number": 46,
       "text": [
        "array([43, 42, 58, 45, 43, 43, 31, 43, 43, 43])"
       ]
      }
     ],
     "prompt_number": 46
    },
    {
     "cell_type": "markdown",
     "metadata": {
      "slideshow": {
       "slide_type": "slide"
      }
     },
     "source": [
      "# Things I didn't cover\n",
      "\n",
      "* Linear Algebra (num.linalg)\n",
      "    * vector and matrix products\n",
      "    * solving equations\n",
      "    * decompositions\n",
      "    * matrix eigenvalues\n",
      "    * ...\n",
      "* numpy C-API\n",
      "* numpy internals\n",
      "* SciPy \n"
     ]
    },
    {
     "cell_type": "markdown",
     "metadata": {
      "slideshow": {
       "slide_type": "slide"
      }
     },
     "source": [
      "#NumPy  \n",
      "## A short introduction\n",
      "\n",
      "---\n",
      "\n",
      "![thank you](files/files/Thank-you--for-your-attention_.jpg)[Quelle](http://www.4shared.com/photo/dslL16kv/Thank-you--for-your-attention_.html)\n",
      "\n",
      "\n",
      "### [Henning Dickten](http://www.dickten.info)\n",
      "<python+bonn@dickten.info>"
     ]
    },
    {
     "cell_type": "markdown",
     "metadata": {
      "slideshow": {
       "slide_type": "-"
      }
     },
     "source": [
      "---\n",
      "<p align=\"center\">NumPy: A short introduction by Henning Dickten, Python User Group Bonn 2013</p>\n",
      "<p align=\"center\"><a rel=\"license\" href=\"http://creativecommons.org/licenses/by-nc-sa/3.0/deed.de\"><img alt=\"Creative Commons Lizenzvertrag\" style=\"border-width:0\" src=\"http://i.creativecommons.org/l/by-nc-sa/3.0/88x31.png\"/></a></p>\n",
      "\n",
      "<p align=\"center\">Dieses Werk bzw. Inhalt ist lizenziert unter einer <a rel=\"license\" href=\"http://creativecommons.org/licenses/by-nc-sa/3.0/deed.de\">Creative Commons Namensnennung - Nicht-kommerziell - Weitergabe unter gleichen Bedingungen 3.0 Unported Lizenz</a>.</p>"
     ]
    }
   ],
   "metadata": {}
  }
 ]
}