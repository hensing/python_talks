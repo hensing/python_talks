{
 "metadata": {
  "celltoolbar": "Slideshow",
  "name": "",
  "signature": "sha256:1e14e2b66024265f3fbfbe96a39419467ad6798d33f7a4d13797ddf22a34a180"
 },
 "nbformat": 3,
 "nbformat_minor": 0,
 "worksheets": [
  {
   "cells": [
    {
     "cell_type": "markdown",
     "metadata": {
      "slideshow": {
       "slide_type": "slide"
      }
     },
     "source": [
      "# Profiling mit IPython\n",
      "\n",
      "---\n",
      "### Python Usergroup Cologne, 10.12.2014\n",
      "### [Henning Dickten](https://github.com/hensing)\n",
      "<python+cologne@dickten.info>"
     ]
    },
    {
     "cell_type": "markdown",
     "metadata": {},
     "source": [
      "## Installation:\n",
      "\n",
      "     \n",
      "    $ pip install line-profiler memory_profiler"
     ]
    },
    {
     "cell_type": "markdown",
     "metadata": {
      "slideshow": {
       "slide_type": "slide"
      }
     },
     "source": [
      "## Integration in iPython\n",
      "    $ ipython profile create\n",
      "    [ProfileCreate] Generating default config file: u'/home/hensing/.ipython/profile_default/ipython_config.py'\n",
      "\n",
      "    $ mkdir ~/.ipython/extensions/"
     ]
    },
    {
     "cell_type": "code",
     "collapsed": false,
     "input": [
      "%load /home/hensing/.ipython/extensions/line_profiler_ext.py"
     ],
     "language": "python",
     "metadata": {
      "slideshow": {
       "slide_type": "subslide"
      }
     },
     "outputs": []
    },
    {
     "cell_type": "code",
     "collapsed": false,
     "input": [
      "#!/usr/bin/python\n",
      "\"\"\"\n",
      "    add %magic for line_profiler extension\n",
      "\"\"\"\n",
      "try:\n",
      "    import line_profiler\n",
      "except ImportError:\n",
      "    pass\n",
      "else:\n",
      "    def load_ipython_extension(ip):\n",
      "        ip.define_magic('lprun', line_profiler.magic_lprun)"
     ],
     "language": "python",
     "metadata": {},
     "outputs": []
    },
    {
     "cell_type": "code",
     "collapsed": false,
     "input": [
      "%load /home/hensing/.ipython/extensions/memory_profiler_ext.py"
     ],
     "language": "python",
     "metadata": {},
     "outputs": []
    },
    {
     "cell_type": "code",
     "collapsed": false,
     "input": [
      "#!/usr/bin/python\n",
      "\"\"\"\n",
      "    add %magic for memory_profiler extension\n",
      "\"\"\"\n",
      "try:\n",
      "    import memory_profiler\n",
      "except ImportError:\n",
      "    pass\n",
      "else:\n",
      "    def load_ipython_extension(ip):\n",
      "        ip.define_magic('memit', memory_profiler.magic_memit)\n",
      "        ip.define_magic('mprun', memory_profiler.magic_mprun)"
     ],
     "language": "python",
     "metadata": {},
     "outputs": []
    },
    {
     "cell_type": "markdown",
     "metadata": {
      "slideshow": {
       "slide_type": "subslide"
      }
     },
     "source": [
      "Edit / replace in ~/.ipython/profile_default/ipython_config.py:\n",
      "    \n",
      "    c.TerminalIPythonApp.extensions = [\n",
      "        'line_profiler_ext',\n",
      "        'memory_profiler_ext',\n",
      "    ]\n",
      "    c.InteractiveShellApp.extensions = [\n",
      "        'line_profiler_ext',\n",
      "        'memory_profiler_ext',\n",
      "    ]"
     ]
    },
    {
     "cell_type": "code",
     "collapsed": false,
     "input": [
      "%load 'test_mod.py'"
     ],
     "language": "python",
     "metadata": {
      "slideshow": {
       "slide_type": "slide"
      }
     },
     "outputs": []
    },
    {
     "cell_type": "code",
     "collapsed": false,
     "input": [
      "#!/usr/bin/python\n",
      "import numpy as np\n",
      "from time import sleep\n",
      "\n",
      "def sub1():\n",
      "    sleep(0.02)\n",
      "    return ''.join([str(number) for number in xrange(100)])\n",
      "\n",
      "def sub2():\n",
      "    sleep(0.001)\n",
      "    return [(x, x) for x in xrange(1000)]\n",
      "\n",
      "def test():\n",
      "    res = []\n",
      "    for _ in xrange(15):\n",
      "        res.append(sub1())\n",
      "        for _ in xrange(20):\n",
      "            res.append(sub2())\n"
     ],
     "language": "python",
     "metadata": {},
     "outputs": []
    },
    {
     "cell_type": "markdown",
     "metadata": {
      "slideshow": {
       "slide_type": "slide"
      }
     },
     "source": [
      "# Profiling in ipython\n",
      "## %timeit (Zeitmessung)\n",
      "bietet nur globale Aussage \u00fcber Laufzeit"
     ]
    },
    {
     "cell_type": "code",
     "collapsed": false,
     "input": [
      "import test_mod\n",
      "%timeit test_mod.test()"
     ],
     "language": "python",
     "metadata": {},
     "outputs": []
    },
    {
     "cell_type": "markdown",
     "metadata": {
      "slideshow": {
       "slide_type": "subslide"
      }
     },
     "source": [
      "## %prun (python profiler)\n",
      "aus der stdlib - gibt an, welche Funktion wieviel Zeit ben\u00f6tigt, jedoch nicht, welche Funktion welche andere aufruft. "
     ]
    },
    {
     "cell_type": "code",
     "collapsed": false,
     "input": [
      "%prun test_mod.test()"
     ],
     "language": "python",
     "metadata": {},
     "outputs": []
    },
    {
     "cell_type": "markdown",
     "metadata": {},
     "source": [
      "## %lprun (line profiler)\n",
      "Gibt pro Zeile der Funktion an, wieviel Zeit ben\u00f6tigt wird"
     ]
    },
    {
     "cell_type": "code",
     "collapsed": false,
     "input": [
      "%lprun -f test_mod.test test_mod.test()"
     ],
     "language": "python",
     "metadata": {},
     "outputs": []
    },
    {
     "cell_type": "markdown",
     "metadata": {},
     "source": [
      "## %memit (memory profiling wie timeit)\n",
      "Gibt an, wieviel Speicher die Funktion global alloziiert."
     ]
    },
    {
     "cell_type": "code",
     "collapsed": false,
     "input": [
      "%memit test_mod.test()"
     ],
     "language": "python",
     "metadata": {},
     "outputs": []
    },
    {
     "cell_type": "markdown",
     "metadata": {},
     "source": [
      "## %mprun (memory_profiler)\n",
      "Gibt an, wieviel Arbeitsspeicher in welcher Zeile alloziiert oder freigegeben wird."
     ]
    },
    {
     "cell_type": "code",
     "collapsed": false,
     "input": [
      "%mprun -f test_mod.test test_mod.test()"
     ],
     "language": "python",
     "metadata": {},
     "outputs": []
    }
   ],
   "metadata": {}
  }
 ]
}