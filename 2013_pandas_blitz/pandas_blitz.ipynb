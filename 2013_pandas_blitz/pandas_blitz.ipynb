{
 "metadata": {
  "name": ""
 },
 "nbformat": 3,
 "nbformat_minor": 0,
 "worksheets": [
  {
   "cells": [
    {
     "cell_type": "markdown",
     "metadata": {
      "slideshow": {
       "slide_type": "slide"
      }
     },
     "source": [
      "![](files/files/pandas_logo.png)  \n",
      "\n",
      "# powerful Python data analysis toolkit  \n",
      "  \n",
      "---\n",
      "### Python Usergroup Cologne, 13.11.2013\n",
      "### [Henning Dickten](https://github.com/hensing)\n",
      "<python+cologne@dickten.info>"
     ]
    },
    {
     "cell_type": "markdown",
     "metadata": {
      "slideshow": {
       "slide_type": "subslide"
      }
     },
     "source": [
      "# Why Pandas?\n",
      "\n",
      "#### from the [project homepage](http://www.pandas.pydata.org):\n",
      "\n",
      "* Fast and efficient DataFrame object  with **integrated indexing**\n",
      "* Tools for reading and writing data (CSV, TXT, Excel, SQL, HDF5, LaTeX, HTML)\n",
      "* Intelligent data **alignment**\n",
      "* Integrated handling of **missing data**\n",
      "* High performance **merging and joining** of data sets\n",
      "* **Time series**-functionality\n",
      "    - date range generation\n",
      "    - frequency conversion\n",
      "    - moving window statistics\n",
      "    - date shifting and lagging\n"
     ]
    },
    {
     "cell_type": "markdown",
     "metadata": {
      "slideshow": {
       "slide_type": "slide"
      }
     },
     "source": [
      "# Getting started"
     ]
    },
    {
     "cell_type": "code",
     "collapsed": false,
     "input": [
      "import numpy as np\n",
      "import pandas as pd\n",
      "\n",
      "# Create DataFrame:\n",
      "df = pd.DataFrame(np.random.randn(5, 4), index=range(0, 10, 2),\n",
      "                  columns=['A', 'B', 'C', 'D'])\n",
      "df"
     ],
     "language": "python",
     "metadata": {
      "slideshow": {
       "slide_type": "-"
      }
     },
     "outputs": [
      {
       "html": [
        "<div style=\"max-height:1000px;max-width:1500px;overflow:auto;\">\n",
        "<table border=\"1\" class=\"dataframe\">\n",
        "  <thead>\n",
        "    <tr style=\"text-align: right;\">\n",
        "      <th></th>\n",
        "      <th>A</th>\n",
        "      <th>B</th>\n",
        "      <th>C</th>\n",
        "      <th>D</th>\n",
        "    </tr>\n",
        "  </thead>\n",
        "  <tbody>\n",
        "    <tr>\n",
        "      <th>0</th>\n",
        "      <td>-0.091265</td>\n",
        "      <td>-0.937256</td>\n",
        "      <td> 1.166011</td>\n",
        "      <td> 0.837159</td>\n",
        "    </tr>\n",
        "    <tr>\n",
        "      <th>2</th>\n",
        "      <td> 0.788939</td>\n",
        "      <td>-2.301015</td>\n",
        "      <td>-0.723840</td>\n",
        "      <td> 1.209379</td>\n",
        "    </tr>\n",
        "    <tr>\n",
        "      <th>4</th>\n",
        "      <td>-0.091123</td>\n",
        "      <td> 1.111671</td>\n",
        "      <td> 0.099893</td>\n",
        "      <td> 0.840903</td>\n",
        "    </tr>\n",
        "    <tr>\n",
        "      <th>6</th>\n",
        "      <td> 0.772671</td>\n",
        "      <td>-0.776812</td>\n",
        "      <td> 1.989463</td>\n",
        "      <td> 1.382635</td>\n",
        "    </tr>\n",
        "    <tr>\n",
        "      <th>8</th>\n",
        "      <td>-0.048946</td>\n",
        "      <td> 0.894057</td>\n",
        "      <td> 0.056944</td>\n",
        "      <td>-0.893073</td>\n",
        "    </tr>\n",
        "  </tbody>\n",
        "</table>\n",
        "</div>"
       ],
       "metadata": {},
       "output_type": "pyout",
       "prompt_number": 1,
       "text": [
        "          A         B         C         D\n",
        "0 -0.091265 -0.937256  1.166011  0.837159\n",
        "2  0.788939 -2.301015 -0.723840  1.209379\n",
        "4 -0.091123  1.111671  0.099893  0.840903\n",
        "6  0.772671 -0.776812  1.989463  1.382635\n",
        "8 -0.048946  0.894057  0.056944 -0.893073"
       ]
      }
     ],
     "prompt_number": 1
    },
    {
     "cell_type": "markdown",
     "metadata": {},
     "source": [
      "* **Series:** series[index] returns a scalar value\n",
      "* **DataFrame:** frame[colname] returns a Series corresponding to the passed column name\n",
      "* **Panel:** panel[itemname] returns a DataFrame corresponding to the passed item name\n"
     ]
    },
    {
     "cell_type": "code",
     "collapsed": false,
     "input": [
      "# accessing entries\n",
      "df['B'][4]    # or: df.B[4]"
     ],
     "language": "python",
     "metadata": {
      "slideshow": {
       "slide_type": "-"
      }
     },
     "outputs": [
      {
       "metadata": {},
       "output_type": "pyout",
       "prompt_number": 2,
       "text": [
        "1.1116706262768983"
       ]
      }
     ],
     "prompt_number": 2
    },
    {
     "cell_type": "markdown",
     "metadata": {
      "slideshow": {
       "slide_type": "slide"
      }
     },
     "source": [
      "# Interoperability with NumPy"
     ]
    },
    {
     "cell_type": "code",
     "collapsed": false,
     "input": [
      "# get underlying ndarray:\n",
      "df['C'].values"
     ],
     "language": "python",
     "metadata": {},
     "outputs": [
      {
       "metadata": {},
       "output_type": "pyout",
       "prompt_number": 3,
       "text": [
        "array([ 1.16601094, -0.72383961,  0.09989308,  1.98946325,  0.0569439 ])"
       ]
      }
     ],
     "prompt_number": 3
    },
    {
     "cell_type": "code",
     "collapsed": false,
     "input": [
      "type(df['C'].values)"
     ],
     "language": "python",
     "metadata": {},
     "outputs": [
      {
       "metadata": {},
       "output_type": "pyout",
       "prompt_number": 4,
       "text": [
        "numpy.ndarray"
       ]
      }
     ],
     "prompt_number": 4
    },
    {
     "cell_type": "code",
     "collapsed": false,
     "input": [
      "# use numpy functions and broadcasting with pandas Series:\n",
      "df['B'] - df['A'].mean()"
     ],
     "language": "python",
     "metadata": {
      "slideshow": {
       "slide_type": "-"
      }
     },
     "outputs": [
      {
       "metadata": {},
       "output_type": "pyout",
       "prompt_number": 5,
       "text": [
        "0   -1.203312\n",
        "2   -2.567070\n",
        "4    0.845615\n",
        "6   -1.042867\n",
        "8    0.628002\n",
        "Name: B, dtype: float64"
       ]
      }
     ],
     "prompt_number": 5
    },
    {
     "cell_type": "markdown",
     "metadata": {
      "slideshow": {
       "slide_type": "slide"
      }
     },
     "source": [
      "# Dealing with missing data:"
     ]
    },
    {
     "cell_type": "code",
     "collapsed": false,
     "input": [
      "ser1 = pd.Series(np.random.rand(5), index=np.arange(0, 5))\n",
      "ser2 = pd.Series(np.random.rand(5), index=np.arange(1, 6))\n",
      "ser3 = pd.Series(np.random.rand(3), index=np.arange(6)[::2])\n",
      "\n",
      "df = pd.DataFrame({'ser1': ser1, 'ser2': ser2, 'ser3': ser3})\n",
      "df"
     ],
     "language": "python",
     "metadata": {},
     "outputs": [
      {
       "html": [
        "<div style=\"max-height:1000px;max-width:1500px;overflow:auto;\">\n",
        "<table border=\"1\" class=\"dataframe\">\n",
        "  <thead>\n",
        "    <tr style=\"text-align: right;\">\n",
        "      <th></th>\n",
        "      <th>ser1</th>\n",
        "      <th>ser2</th>\n",
        "      <th>ser3</th>\n",
        "    </tr>\n",
        "  </thead>\n",
        "  <tbody>\n",
        "    <tr>\n",
        "      <th>0</th>\n",
        "      <td> 0.595627</td>\n",
        "      <td>      NaN</td>\n",
        "      <td> 0.601020</td>\n",
        "    </tr>\n",
        "    <tr>\n",
        "      <th>1</th>\n",
        "      <td> 0.555233</td>\n",
        "      <td> 0.111161</td>\n",
        "      <td>      NaN</td>\n",
        "    </tr>\n",
        "    <tr>\n",
        "      <th>2</th>\n",
        "      <td> 0.224997</td>\n",
        "      <td> 0.944459</td>\n",
        "      <td> 0.395455</td>\n",
        "    </tr>\n",
        "    <tr>\n",
        "      <th>3</th>\n",
        "      <td> 0.460273</td>\n",
        "      <td> 0.662901</td>\n",
        "      <td>      NaN</td>\n",
        "    </tr>\n",
        "    <tr>\n",
        "      <th>4</th>\n",
        "      <td> 0.090406</td>\n",
        "      <td> 0.255163</td>\n",
        "      <td> 0.221421</td>\n",
        "    </tr>\n",
        "    <tr>\n",
        "      <th>5</th>\n",
        "      <td>      NaN</td>\n",
        "      <td> 0.683393</td>\n",
        "      <td>      NaN</td>\n",
        "    </tr>\n",
        "  </tbody>\n",
        "</table>\n",
        "</div>"
       ],
       "metadata": {},
       "output_type": "pyout",
       "prompt_number": 6,
       "text": [
        "       ser1      ser2      ser3\n",
        "0  0.595627       NaN  0.601020\n",
        "1  0.555233  0.111161       NaN\n",
        "2  0.224997  0.944459  0.395455\n",
        "3  0.460273  0.662901       NaN\n",
        "4  0.090406  0.255163  0.221421\n",
        "5       NaN  0.683393       NaN"
       ]
      }
     ],
     "prompt_number": 6
    },
    {
     "cell_type": "code",
     "collapsed": false,
     "input": [
      "# automatic pandas-magic:\n",
      "df.ser1 + df.ser2 + df.ser3"
     ],
     "language": "python",
     "metadata": {},
     "outputs": [
      {
       "metadata": {},
       "output_type": "pyout",
       "prompt_number": 7,
       "text": [
        "0         NaN\n",
        "1         NaN\n",
        "2    1.564912\n",
        "3         NaN\n",
        "4    0.566990\n",
        "5         NaN\n",
        "dtype: float64"
       ]
      }
     ],
     "prompt_number": 7
    },
    {
     "cell_type": "markdown",
     "metadata": {
      "slideshow": {
       "slide_type": "slide"
      }
     },
     "source": [
      "# Easy DataFrame export:\n",
      "\n",
      "* string\n",
      "* excel\n",
      "* hdf5\n",
      "* HTML\n",
      "* $\\LaTeX$"
     ]
    },
    {
     "cell_type": "code",
     "collapsed": false,
     "input": [
      "print(df.to_latex())"
     ],
     "language": "python",
     "metadata": {
      "slideshow": {
       "slide_type": "-"
      }
     },
     "outputs": [
      {
       "output_type": "stream",
       "stream": "stdout",
       "text": [
        "\\begin{tabular}{lrrr}\n",
        "\\toprule\n",
        "{} &      ser1 &      ser2 &      ser3 \\\\\n",
        "\\midrule\n",
        "0 &  0.595627 &       NaN &  0.601020 \\\\\n",
        "1 &  0.555233 &  0.111161 &       NaN \\\\\n",
        "2 &  0.224997 &  0.944459 &  0.395455 \\\\\n",
        "3 &  0.460273 &  0.662901 &       NaN \\\\\n",
        "4 &  0.090406 &  0.255163 &  0.221421 \\\\\n",
        "5 &       NaN &  0.683393 &       NaN \\\\\n",
        "\\bottomrule\n",
        "\\end{tabular}\n",
        "\n"
       ]
      }
     ],
     "prompt_number": 8
    },
    {
     "cell_type": "markdown",
     "metadata": {
      "slideshow": {
       "slide_type": "slide"
      }
     },
     "source": [
      "# Time Series"
     ]
    },
    {
     "cell_type": "code",
     "collapsed": false,
     "input": [
      "# get data with different sampling rates\n",
      "dates1 = pd.date_range('2013-05-05', '2013-05-06', freq='4H')\n",
      "dates2 = pd.date_range('2013-05-05', '2013-05-06', freq='5H')\n",
      "\n",
      "foo = pd.Series(np.random.rand(dates1.shape[0]), index=dates1)\n",
      "bar = pd.Series(np.random.rand(dates2.shape[0]), index=dates2)\n",
      "\n",
      "df = pd.DataFrame({'foo': foo, 'bar': bar})\n",
      "df"
     ],
     "language": "python",
     "metadata": {},
     "outputs": [
      {
       "html": [
        "<div style=\"max-height:1000px;max-width:1500px;overflow:auto;\">\n",
        "<table border=\"1\" class=\"dataframe\">\n",
        "  <thead>\n",
        "    <tr style=\"text-align: right;\">\n",
        "      <th></th>\n",
        "      <th>bar</th>\n",
        "      <th>foo</th>\n",
        "    </tr>\n",
        "  </thead>\n",
        "  <tbody>\n",
        "    <tr>\n",
        "      <th>2013-05-05 00:00:00</th>\n",
        "      <td> 0.181594</td>\n",
        "      <td> 0.586820</td>\n",
        "    </tr>\n",
        "    <tr>\n",
        "      <th>2013-05-05 04:00:00</th>\n",
        "      <td>      NaN</td>\n",
        "      <td> 0.974488</td>\n",
        "    </tr>\n",
        "    <tr>\n",
        "      <th>2013-05-05 05:00:00</th>\n",
        "      <td> 0.209946</td>\n",
        "      <td>      NaN</td>\n",
        "    </tr>\n",
        "    <tr>\n",
        "      <th>2013-05-05 08:00:00</th>\n",
        "      <td>      NaN</td>\n",
        "      <td> 0.312401</td>\n",
        "    </tr>\n",
        "    <tr>\n",
        "      <th>2013-05-05 10:00:00</th>\n",
        "      <td> 0.750431</td>\n",
        "      <td>      NaN</td>\n",
        "    </tr>\n",
        "    <tr>\n",
        "      <th>2013-05-05 12:00:00</th>\n",
        "      <td>      NaN</td>\n",
        "      <td> 0.866854</td>\n",
        "    </tr>\n",
        "    <tr>\n",
        "      <th>2013-05-05 15:00:00</th>\n",
        "      <td> 0.530614</td>\n",
        "      <td>      NaN</td>\n",
        "    </tr>\n",
        "    <tr>\n",
        "      <th>2013-05-05 16:00:00</th>\n",
        "      <td>      NaN</td>\n",
        "      <td> 0.261564</td>\n",
        "    </tr>\n",
        "    <tr>\n",
        "      <th>2013-05-05 20:00:00</th>\n",
        "      <td> 0.041504</td>\n",
        "      <td> 0.621163</td>\n",
        "    </tr>\n",
        "    <tr>\n",
        "      <th>2013-05-06 00:00:00</th>\n",
        "      <td>      NaN</td>\n",
        "      <td> 0.633180</td>\n",
        "    </tr>\n",
        "  </tbody>\n",
        "</table>\n",
        "</div>"
       ],
       "metadata": {},
       "output_type": "pyout",
       "prompt_number": 9,
       "text": [
        "                          bar       foo\n",
        "2013-05-05 00:00:00  0.181594  0.586820\n",
        "2013-05-05 04:00:00       NaN  0.974488\n",
        "2013-05-05 05:00:00  0.209946       NaN\n",
        "2013-05-05 08:00:00       NaN  0.312401\n",
        "2013-05-05 10:00:00  0.750431       NaN\n",
        "2013-05-05 12:00:00       NaN  0.866854\n",
        "2013-05-05 15:00:00  0.530614       NaN\n",
        "2013-05-05 16:00:00       NaN  0.261564\n",
        "2013-05-05 20:00:00  0.041504  0.621163\n",
        "2013-05-06 00:00:00       NaN  0.633180"
       ]
      }
     ],
     "prompt_number": 9
    },
    {
     "cell_type": "markdown",
     "metadata": {
      "slideshow": {
       "slide_type": "subslide"
      }
     },
     "source": [
      "# Time Series\n",
      "## Resampling"
     ]
    },
    {
     "cell_type": "code",
     "collapsed": false,
     "input": [
      "# resample to 7 hours via fill forward\n",
      "df.resample('7H', fill_method='ffill')  "
     ],
     "language": "python",
     "metadata": {
      "slideshow": {
       "slide_type": "-"
      }
     },
     "outputs": [
      {
       "html": [
        "<div style=\"max-height:1000px;max-width:1500px;overflow:auto;\">\n",
        "<table border=\"1\" class=\"dataframe\">\n",
        "  <thead>\n",
        "    <tr style=\"text-align: right;\">\n",
        "      <th></th>\n",
        "      <th>bar</th>\n",
        "      <th>foo</th>\n",
        "    </tr>\n",
        "  </thead>\n",
        "  <tbody>\n",
        "    <tr>\n",
        "      <th>2013-05-05 00:00:00</th>\n",
        "      <td> 0.195770</td>\n",
        "      <td> 0.780654</td>\n",
        "    </tr>\n",
        "    <tr>\n",
        "      <th>2013-05-05 07:00:00</th>\n",
        "      <td> 0.750431</td>\n",
        "      <td> 0.589628</td>\n",
        "    </tr>\n",
        "    <tr>\n",
        "      <th>2013-05-05 14:00:00</th>\n",
        "      <td> 0.286059</td>\n",
        "      <td> 0.441363</td>\n",
        "    </tr>\n",
        "    <tr>\n",
        "      <th>2013-05-05 21:00:00</th>\n",
        "      <td> 0.286059</td>\n",
        "      <td> 0.633180</td>\n",
        "    </tr>\n",
        "  </tbody>\n",
        "</table>\n",
        "</div>"
       ],
       "metadata": {},
       "output_type": "pyout",
       "prompt_number": 10,
       "text": [
        "                          bar       foo\n",
        "2013-05-05 00:00:00  0.195770  0.780654\n",
        "2013-05-05 07:00:00  0.750431  0.589628\n",
        "2013-05-05 14:00:00  0.286059  0.441363\n",
        "2013-05-05 21:00:00  0.286059  0.633180"
       ]
      }
     ],
     "prompt_number": 10
    },
    {
     "cell_type": "markdown",
     "metadata": {
      "slideshow": {
       "slide_type": "slide"
      }
     },
     "source": [
      "# Plotting"
     ]
    },
    {
     "cell_type": "code",
     "collapsed": false,
     "input": [
      "pylab.rcParams['figure.figsize'] = (12, 6)"
     ],
     "language": "python",
     "metadata": {
      "slideshow": {
       "slide_type": "skip"
      }
     },
     "outputs": [],
     "prompt_number": 11
    },
    {
     "cell_type": "code",
     "collapsed": false,
     "input": [
      "from pandas.io.data import DataReader\n",
      "\n",
      "# get AAPL stock as DataFrame from Yahoo\n",
      "aapl = DataReader('AAPL', data_source='yahoo')\n",
      "ax = aapl['Open'].plot(label='AAPL')\n",
      "\n",
      "# plot same with 30 days moving average\n",
      "pd.rolling_mean(aapl['Open'].resample('1D', fill_method='ffill'),\n",
      "                window=30).plot(label='30d rolling mean', ax=ax)\n",
      "\n",
      "ax.set_ylabel('Open price in USD')\n",
      "ax.legend()"
     ],
     "language": "python",
     "metadata": {},
     "outputs": [
      {
       "metadata": {},
       "output_type": "pyout",
       "prompt_number": 12,
       "text": [
        "<matplotlib.legend.Legend at 0x3d14590>"
       ]
      },
      {
       "metadata": {},
       "output_type": "display_data",
       "png": "[encoded data removed]",
       "text": [
        "<matplotlib.figure.Figure at 0x3d145d0>"
       ]
      }
     ],
     "prompt_number": 12
    },
    {
     "cell_type": "markdown",
     "metadata": {},
     "source": [
      "---\n",
      "<p align=\"center\">pandas blitz talk by Henning Dickten, Python User Group Cologne 2013</p>\n",
      "<p align=\"center\"><a rel=\"license\" href=\"http://creativecommons.org/licenses/by-nc-sa/3.0/deed.de\"><img alt=\"Creative Commons Lizenzvertrag\" style=\"border-width:0\" src=\"http://i.creativecommons.org/l/by-nc-sa/3.0/88x31.png\"/></a></p>\n",
      "\n",
      "<p align=\"center\">Dieses Werk bzw. Inhalt ist lizenziert unter einer <a rel=\"license\" href=\"http://creativecommons.org/licenses/by-nc-sa/3.0/deed.de\">Creative Commons Namensnennung - Nicht-kommerziell - Weitergabe unter gleichen Bedingungen 3.0 Unported Lizenz</a>.</p>"
     ]
    }
   ],
   "metadata": {}
  }
 ]
}